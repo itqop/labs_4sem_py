{
 "cells": [
  {
   "cell_type": "code",
   "execution_count": 32,
   "metadata": {
    "scrolled": true
   },
   "outputs": [
    {
     "name": "stdout",
     "output_type": "stream",
     "text": [
      "3\n",
      "3\n",
      "-1000\n",
      "1000\n"
     ]
    }
   ],
   "source": [
    "import random\n",
    "import numpy as np\n",
    "m = input() \n",
    "n = input()\n",
    "min_limit = input()\n",
    "max_limit = input()\n"
   ]
  },
  {
   "cell_type": "code",
   "execution_count": 21,
   "metadata": {},
   "outputs": [],
   "source": [
    "def selection_sortQ(A):\n",
    "    for i in range(0, len(A) - 1):\n",
    "        minIndex = i\n",
    "        for j in range(i + 1, len(A)):\n",
    "            if A[j] < A[minIndex]:\n",
    "                minIndex = j\n",
    "        if minIndex != i:\n",
    "            A[i], A[minIndex] = A[minIndex], A[i]\n",
    "def selection_sort(A):\n",
    "    for i in A:\n",
    "        selection_sortQ(i)\n",
    "def insertion_sortQ(A):\n",
    "    for i in range(1, len(A)):\n",
    "        curNum = A[i]\n",
    "        k = 0\n",
    "        for j in range(i - 1, -2, -1):\n",
    "            k = j\n",
    "            if A[j] > curNum:\n",
    "                A[j + 1] = A[j]\n",
    "            else:\n",
    "                break\n",
    "        A[k + 1] = curNum\n",
    "def insertion_sort(A):\n",
    "    for i in A:\n",
    "        insertion_sortQ(i)\n",
    "        \n",
    "def bubble_sortQ(A):\n",
    "    for i in range(0, len(A) - 1):\n",
    "        done = True\n",
    "        for j in range(0, len(A) - i - 1):\n",
    "            if A[j] > A[j + 1]:\n",
    "                A[j], A[j + 1] = A[j + 1], A[j]\n",
    "                done = False\n",
    "        if done:\n",
    "            return\n",
    "def bubble_sort(A):\n",
    "    for i in A:\n",
    "        bubble_sortQ(i)\n",
    "        \n",
    "def quick_sortQ(A):\n",
    "    quick_sort2(A, 0, len(A) - 1)\n",
    "def quick_sort2(A, low, hi):\n",
    "    if hi - low < 20 and low < hi:\n",
    "        quick_selection(A, low, hi)\n",
    "    elif low < hi:\n",
    "        p = partition(A, low, hi)\n",
    "        quick_sort2(A, low, p - 1)\n",
    "        quick_sort2(A, p + 1, hi)\n",
    "def quick_sort(A):\n",
    "    for i in A:\n",
    "        quick_sortQ(i)\n",
    "\n",
    "def get_pivot(A, low, hi):\n",
    "    mid = (hi + low) // 2\n",
    "    s = sorted([A[low], A[mid], A[hi]])\n",
    "    if s[1] == A[low]:\n",
    "        return low\n",
    "    elif s[1] == A[mid]:\n",
    "        return mid\n",
    "    return hi\n",
    "\n",
    "\n",
    "def partition(A, low, hi):\n",
    "    pivotIndex = get_pivot(A, low, hi)\n",
    "    pivotValue = A[pivotIndex]\n",
    "    A[pivotIndex], A[low] = A[low], A[pivotIndex]\n",
    "    border = low\n",
    "\n",
    "    for i in range(low, hi + 1):\n",
    "        if A[i] < pivotValue:\n",
    "            border += 1\n",
    "            A[i], A[border] = A[border], A[i]\n",
    "    A[low], A[border] = A[border], A[low]\n",
    "\n",
    "    return (border)\n",
    "\n",
    "\n",
    "def quick_selection(x, first, last):\n",
    "    for i in range(first, last):\n",
    "        minIndex = i\n",
    "        for j in range(i + 1, last + 1):\n",
    "            if x[j] < x[minIndex]:\n",
    "                minIndex = j\n",
    "        if minIndex != i:\n",
    "            x[i], x[minIndex] = x[minIndex], x[i]\n",
    "\n",
    "def heapsortQ(a):\n",
    "    heapify(a, len(a))\n",
    "    end = len(a) - 1\n",
    "    while end > 0:\n",
    "        a[end], a[0] = a[0], a[end]\n",
    "        end -= 1\n",
    "        sift_down(a, 0, end)\n",
    "def heapsort(A):\n",
    "    for i in A:\n",
    "        heapsortQ(i)\n",
    "\n",
    "def heapify(a, count):\n",
    "    start = int((count - 2) / 2)\n",
    "    while start >= 0:\n",
    "        sift_down(a, start, count - 1)\n",
    "        start -= 1\n",
    "\n",
    "\n",
    "def sift_down(a, start, end):\n",
    "    root = start\n",
    "    while (root * 2 + 1) <= end:\n",
    "        child = root * 2 + 1\n",
    "        swap = root\n",
    "        if a[swap] < a[child]:\n",
    "            swap = child\n",
    "        if (child + 1) <= end and a[swap] < a[child + 1]:\n",
    "            swap = child + 1\n",
    "        if swap != root:\n",
    "            a[root], a[swap] = a[swap], a[root]\n",
    "            root = swap\n",
    "        else:\n",
    "            return\n",
    "        \n",
    "def shell_sortQ(alist):\n",
    "    sublistcount = len(alist)//2\n",
    "    while sublistcount > 0:\n",
    "\n",
    "        for startposition in range(sublistcount):\n",
    "            for i in range(startposition + sublistcount, len(alist),  sublistcount):\n",
    "\n",
    "                currentvalue = alist[i]\n",
    "                position = i\n",
    "\n",
    "                while position >=  sublistcount and alist[position -  sublistcount] > currentvalue:\n",
    "                    alist[position] = alist[position -  sublistcount]\n",
    "                    position = position -  sublistcount\n",
    "\n",
    "                alist[position] = currentvalue\n",
    "        sublistcount //= 2\n",
    "def shell_sort(A):\n",
    "    for i in A:\n",
    "        shell_sortQ(i)"
   ]
  },
  {
   "cell_type": "code",
   "execution_count": 2,
   "metadata": {},
   "outputs": [],
   "source": [
    "if (m == \"\" or  n == \"\" or min_limit == \"\" or max_limit == \"\"):\n",
    "    m = 50\n",
    "    n = 50\n",
    "    min_limit = -250\n",
    "    max_limit = 1007\n",
    "    "
   ]
  },
  {
   "cell_type": "code",
   "execution_count": 33,
   "metadata": {},
   "outputs": [
    {
     "name": "stdout",
     "output_type": "stream",
     "text": [
      "[[-955, 261, 944], [609, -489, 198], [-228, -228, -975]]\n"
     ]
    }
   ],
   "source": [
    "x = [[random.randint(int(min_limit),int(max_limit) ) for a in range(int(m))] for k in range(int(n))]\n",
    "print(x)"
   ]
  },
  {
   "cell_type": "code",
   "execution_count": 35,
   "metadata": {},
   "outputs": [
    {
     "name": "stdout",
     "output_type": "stream",
     "text": [
      "181 ns ± 3.67 ns per loop (mean ± std. dev. of 7 runs, 10000000 loops each)\n",
      "[[-975, -228, -228], [-955, 261, 944], [-489, 198, 609]]\n"
     ]
    }
   ],
   "source": [
    "ui = x.copy()\n",
    "%timeit ui.sort()\n",
    "print(ui)"
   ]
  },
  {
   "cell_type": "code",
   "execution_count": 36,
   "metadata": {},
   "outputs": [
    {
     "name": "stdout",
     "output_type": "stream",
     "text": [
      "4.08 µs ± 125 ns per loop (mean ± std. dev. of 7 runs, 100000 loops each)\n",
      "[[-955, 261, 944], [-489, 198, 609], [-975, -228, -228]]\n"
     ]
    }
   ],
   "source": [
    "ui = x.copy()\n",
    "%timeit selection_sort(ui)\n",
    "print(ui)"
   ]
  },
  {
   "cell_type": "code",
   "execution_count": 37,
   "metadata": {},
   "outputs": [
    {
     "name": "stdout",
     "output_type": "stream",
     "text": [
      "4.22 µs ± 289 ns per loop (mean ± std. dev. of 7 runs, 100000 loops each)\n",
      "[[-955, 261, 944], [-489, 198, 609], [-975, -228, -228]]\n"
     ]
    }
   ],
   "source": [
    "ui = x.copy()\n",
    "%timeit insertion_sort(ui)\n",
    "print(ui)"
   ]
  },
  {
   "cell_type": "code",
   "execution_count": 38,
   "metadata": {},
   "outputs": [
    {
     "name": "stdout",
     "output_type": "stream",
     "text": [
      "2.92 µs ± 215 ns per loop (mean ± std. dev. of 7 runs, 100000 loops each)\n",
      "[[-955, 261, 944], [-489, 198, 609], [-975, -228, -228]]\n"
     ]
    }
   ],
   "source": [
    "ui = x.copy()\n",
    "%timeit bubble_sort(ui)\n",
    "print(ui)"
   ]
  },
  {
   "cell_type": "code",
   "execution_count": 39,
   "metadata": {},
   "outputs": [
    {
     "name": "stdout",
     "output_type": "stream",
     "text": [
      "3.82 µs ± 430 ns per loop (mean ± std. dev. of 7 runs, 100000 loops each)\n",
      "[[-955, 261, 944], [-489, 198, 609], [-975, -228, -228]]\n"
     ]
    }
   ],
   "source": [
    "ui = x.copy()\n",
    "%timeit shell_sort(ui)\n",
    "print(ui)"
   ]
  },
  {
   "cell_type": "code",
   "execution_count": 40,
   "metadata": {},
   "outputs": [
    {
     "name": "stdout",
     "output_type": "stream",
     "text": [
      "4.67 µs ± 382 ns per loop (mean ± std. dev. of 7 runs, 100000 loops each)\n",
      "[[-955, 261, 944], [-489, 198, 609], [-975, -228, -228]]\n"
     ]
    }
   ],
   "source": [
    "ui = x.copy()\n",
    "%timeit quick_sort(ui)\n",
    "print(ui)"
   ]
  },
  {
   "cell_type": "code",
   "execution_count": 41,
   "metadata": {},
   "outputs": [
    {
     "name": "stdout",
     "output_type": "stream",
     "text": [
      "6.84 µs ± 1.12 µs per loop (mean ± std. dev. of 7 runs, 100000 loops each)\n",
      "[[-955, 261, 944], [-489, 198, 609], [-975, -228, -228]]\n"
     ]
    }
   ],
   "source": [
    "ui = x.copy()\n",
    "%timeit heapsort(ui)\n",
    "print(ui)"
   ]
  },
  {
   "cell_type": "code",
   "execution_count": null,
   "metadata": {},
   "outputs": [],
   "source": []
  }
 ],
 "metadata": {
  "kernelspec": {
   "display_name": "Python 3",
   "language": "python",
   "name": "python3"
  },
  "language_info": {
   "codemirror_mode": {
    "name": "ipython",
    "version": 3
   },
   "file_extension": ".py",
   "mimetype": "text/x-python",
   "name": "python",
   "nbconvert_exporter": "python",
   "pygments_lexer": "ipython3",
   "version": "3.7.6"
  }
 },
 "nbformat": 4,
 "nbformat_minor": 4
}
