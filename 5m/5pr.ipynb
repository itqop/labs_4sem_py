{
 "cells": [
  {
   "cell_type": "code",
   "execution_count": 1,
   "metadata": {},
   "outputs": [],
   "source": [
    "#1\n",
    "def n1():\n",
    "    A = list(map(int, input().split(\" \")))\n",
    "    A.sort(reverse=True)\n",
    "    for i in range(len(A) - 2):\n",
    "        if A[i] < A[i + 1] + A[i + 2]:\n",
    "            print(A[i] + A[i + 1] +A[i + 2])\n",
    "            break\n",
    "    else:\n",
    "        print(-1)"
   ]
  },
  {
   "cell_type": "code",
   "execution_count": 5,
   "metadata": {},
   "outputs": [],
   "source": [
    "#2\n",
    "def sort_f(array):\n",
    "    for i in range(0, len(array) - 1):\n",
    "        minIndex = i\n",
    "        for j in range(i + 1, len(array)):\n",
    "            if cmp(array[j], array[minIndex]):\n",
    "                minIndex = j\n",
    "        if minIndex != i:\n",
    "            array[i], array[minIndex] = array[minIndex], array[i]\n",
    "    return array\n",
    "\n",
    "\n",
    "def cmp(a, b):\n",
    "    ab = str(a) + str(b)\n",
    "    ba = str(b) + str(a)\n",
    "    return True if ab > ba else False\n",
    "\n",
    "\n",
    "def n2():\n",
    "    nums = list(map(str, input().split()))\n",
    "    print(nums)\n",
    "    nums = sort_f(nums)\n",
    "    print(''.join(nums))\n",
    "\n"
   ]
  },
  {
   "cell_type": "code",
   "execution_count": 3,
   "metadata": {},
   "outputs": [],
   "source": [
    "#3\n",
    "def n3():\n",
    "    matrix1 = [[56, 25, 66, 1, 69, 7],\n",
    "              [23, 55, 17, 45, 15, 52],\n",
    "              [75, 31, 36, 44, 58, 8],\n",
    "              [22, 27, 33, 25, 68, 4],\n",
    "              ]\n",
    "    matrix = [[3, 3, 1, 1],\n",
    "              [2, 2, 1, 2],\n",
    "              [1, 1, 1, 2]]\n",
    "\n",
    "    n = len(matrix1)\n",
    "    m = len(matrix1[0])\n",
    "    matrix_s = []\n",
    "\n",
    "    for j in range(n - 1, 0, -1):\n",
    "        matrix_s.append(sorted(list(matrix1[i][i - j] for i in range(j, n))))\n",
    "    for j in range(m //2):\n",
    "        matrix_s.append(sorted(list(matrix1[i][i+j] for i in range(n))))\n",
    "    for j in range(0, n - 1):\n",
    "        matrix_s.append(sorted(list(matrix1[i-m//2-j][i] for i in range(m//2+j, m))))\n",
    "\n",
    "\n",
    "\n",
    "    print(matrix_s)"
   ]
  },
  {
   "cell_type": "code",
   "execution_count": 6,
   "metadata": {},
   "outputs": [
    {
     "name": "stdout",
     "output_type": "stream",
     "text": [
      "2 1 2\n",
      "5\n",
      "12 25 32\n",
      "['12', '25', '32']\n",
      "322512\n",
      "[[22], [27, 75], [23, 31, 33], [25, 36, 55, 56], [17, 25, 44, 68], [4, 45, 58, 66], [1, 8, 15], [52, 69], [7]]\n"
     ]
    }
   ],
   "source": [
    "#запуск\n",
    "n1()\n",
    "n2()\n",
    "n3()\n",
    "\n"
   ]
  },
  {
   "cell_type": "code",
   "execution_count": null,
   "metadata": {},
   "outputs": [],
   "source": []
  }
 ],
 "metadata": {
  "kernelspec": {
   "display_name": "Python 3",
   "language": "python",
   "name": "python3"
  },
  "language_info": {
   "codemirror_mode": {
    "name": "ipython",
    "version": 3
   },
   "file_extension": ".py",
   "mimetype": "text/x-python",
   "name": "python",
   "nbconvert_exporter": "python",
   "pygments_lexer": "ipython3",
   "version": "3.8.5"
  }
 },
 "nbformat": 4,
 "nbformat_minor": 4
}
