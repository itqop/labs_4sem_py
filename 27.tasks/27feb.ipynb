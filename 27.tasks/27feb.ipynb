{
 "cells": [
  {
   "cell_type": "code",
   "execution_count": 1,
   "metadata": {},
   "outputs": [],
   "source": [
    "# задача 1\n",
    "def plus(Arg, int):\n",
    "    global addX\n",
    "    addX = Arg + int\n",
    "\n",
    "\n",
    "def searchGolos(arr, part):\n",
    "    for i in range(len(arr) - 1, -1, -1):\n",
    "        if arr[i] == 0:\n",
    "            continue\n",
    "        elif arr[i][0] == 'Add' and arr[i][1] == part:\n",
    "            return i\n",
    "    return -1\n",
    "\n",
    "\n",
    "def n1():\n",
    "    global addX\n",
    "    k = int(input())\n",
    "    Input = list(list(map(str, input().split())) for o in range(k))\n",
    "    tree = [0 for i in range(k)]\n",
    "    addX = 0\n",
    "    Ans = True\n",
    "    for i in range(k):\n",
    "        Action = Input[i]\n",
    "        if Action[0] == 'Add':\n",
    "            tree[addX] = Action\n",
    "            plus(addX, 1) if tree[1] == 0 else plus(addX, 2)\n",
    "\n",
    "        if Action[0] == 'Vote':\n",
    "            if Input[i - 1][0] == 'Add' and Input[i - 1][1] != Action[1]:\n",
    "                Ans = False\n",
    "                break\n",
    "            Golos = searchGolos(tree, Action[1])\n",
    "\n",
    "            if Golos == len(tree) - 3 or Golos == 0:\n",
    "                tree[Golos + 2] = Action\n",
    "            elif Golos == -1:\n",
    "                Ans = False\n",
    "                break\n",
    "            else:\n",
    "                tree[Golos + 3] = Action\n",
    "    print('Yes') if Ans else print('No')\n",
    "    print(tree)"
   ]
  },
  {
   "cell_type": "code",
   "execution_count": 6,
   "metadata": {},
   "outputs": [
    {
     "name": "stdout",
     "output_type": "stream",
     "text": [
      "12\n",
      "Add h\n",
      "Add e\n",
      "Vote e\n",
      "Add n\n",
      "Add t\n",
      "Add a\n",
      "Vote a\n",
      "Vote t\n",
      "Add i\n",
      "Vote i\n",
      "Vote n\n",
      "Vote h\n",
      "Yes\n",
      "[['Add', 'h'], ['Add', 'e'], ['Vote', 'h'], ['Add', 'n'], ['Vote', 'e'], ['Add', 't'], ['Vote', 'n'], ['Add', 'a'], ['Vote', 't'], ['Add', 'i'], ['Vote', 'a'], ['Vote', 'i']]\n"
     ]
    }
   ],
   "source": [
    "n1()\n"
   ]
  },
  {
   "cell_type": "code",
   "execution_count": 2,
   "metadata": {},
   "outputs": [
    {
     "name": "stdout",
     "output_type": "stream",
     "text": [
      "10\n",
      "5\n"
     ]
    }
   ],
   "source": [
    "# задача 2\n",
    "N = input()\n",
    "N = int(N)\n",
    "i = 3\n",
    "while N % i != 0:\n",
    "    i+=1\n",
    "print(i)\n"
   ]
  },
  {
   "cell_type": "code",
   "execution_count": 7,
   "metadata": {},
   "outputs": [
    {
     "name": "stdout",
     "output_type": "stream",
     "text": [
      "Введите число: 12\n",
      "\n",
      "Введено число: 12 \n",
      "Новая система счисления: 12 \n",
      "Число в новой системе счисления: 10 \n",
      "Делитель числа 10: 2\n"
     ]
    }
   ],
   "source": [
    "# задача 3\n",
    "s = int(input(\"Введите число: \"))\n",
    "if s != 1:\n",
    "    print(\"\\nВведено число:\", s, \"\\nНовая система счисления:\", s, \"\\nЧисло в новой системе счисления: 10\", \"\\nДелитель числа 10: 2\")\n",
    "else:\n",
    "    print(-1)"
   ]
  },
  {
   "cell_type": "code",
   "execution_count": null,
   "metadata": {},
   "outputs": [],
   "source": []
  }
 ],
 "metadata": {
  "kernelspec": {
   "display_name": "Python 3",
   "language": "python",
   "name": "python3"
  },
  "language_info": {
   "codemirror_mode": {
    "name": "ipython",
    "version": 3
   },
   "file_extension": ".py",
   "mimetype": "text/x-python",
   "name": "python",
   "nbconvert_exporter": "python",
   "pygments_lexer": "ipython3",
   "version": "3.8.5"
  }
 },
 "nbformat": 4,
 "nbformat_minor": 4
}
