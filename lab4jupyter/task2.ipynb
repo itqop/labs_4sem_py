{
 "cells": [
  {
   "cell_type": "code",
   "execution_count": 1,
   "metadata": {},
   "outputs": [],
   "source": [
    "class Deque:\n",
    "    def __init__(self):\n",
    "        self.items = []\n",
    "\n",
    "    def isEmpty(self):\n",
    "        return self.items == []\n",
    "\n",
    "    def addFront(self, item):\n",
    "        self.items.append(item)\n",
    "\n",
    "    def addRear(self, item):\n",
    "        self.items.insert(0,item)\n",
    "\n",
    "    def removeFront(self):\n",
    "        return self.items.pop()\n",
    "\n",
    "    def removeRear(self):\n",
    "        return self.items.pop(0)\n",
    "\n",
    "    def size(self):\n",
    "        return len(self.items)"
   ]
  },
  {
   "cell_type": "code",
   "execution_count": 2,
   "metadata": {},
   "outputs": [],
   "source": [
    "def generationAlp():\n",
    "    alph = 'abcdefghijklmnopqrstuvwxyz'\n",
    "    for i in range(25):\n",
    "        alf.addFront(alph[i])\n",
    "    alf.removeFront()"
   ]
  },
  {
   "cell_type": "code",
   "execution_count": 5,
   "metadata": {},
   "outputs": [],
   "source": [
    "def decryption():\n",
    "    t = ''\n",
    "    generationAlp()\n",
    "    with open('task2.txt', \"r\") as f:\n",
    "        z = f.read()\n",
    "        for i in range(len(z)):\n",
    "            s.addFront(z[i].lower())\n",
    "        s.addFront('#')\n",
    "    startSize = s.size()-1\n",
    "    while decrp.size() != startSize:\n",
    "        a = s.removeRear()\n",
    "        check = True\n",
    "        if a.isalpha():\n",
    "            while check == True:\n",
    "                if a == 'y':\n",
    "                    a = alf.items[0]\n",
    "                    decrp.addFront(a)\n",
    "                    break\n",
    "                elif a == 'z':\n",
    "                    alf.removeRear()\n",
    "                    a = alf.items[0]\n",
    "                    decrp.addFront(a)\n",
    "                    generationAlp()\n",
    "                    break\n",
    "                elif a == alf.removeRear():\n",
    "                        alf.removeRear()\n",
    "                        a = alf.items[0]\n",
    "                        decrp.addFront(a)\n",
    "                        alf.items.clear()\n",
    "                        generationAlp()\n",
    "                        break\n",
    "        else:\n",
    "            decrp.addFront(a)\n",
    "\n",
    "    for i in range(decrp.size()):\n",
    "        t += decrp.removeRear()\n",
    "    return t"
   ]
  },
  {
   "cell_type": "code",
   "execution_count": 6,
   "metadata": {},
   "outputs": [
    {
     "name": "stdout",
     "output_type": "stream",
     "text": [
      "hello dio, abc\n"
     ]
    }
   ],
   "source": [
    "if __name__ == \"__main__\":\n",
    "    s = Deque()\n",
    "    alf = Deque()\n",
    "    decrp = Deque()\n",
    "    print(decryption())"
   ]
  },
  {
   "cell_type": "code",
   "execution_count": null,
   "metadata": {},
   "outputs": [],
   "source": []
  }
 ],
 "metadata": {
  "kernelspec": {
   "display_name": "Python 3",
   "language": "python",
   "name": "python3"
  },
  "language_info": {
   "codemirror_mode": {
    "name": "ipython",
    "version": 3
   },
   "file_extension": ".py",
   "mimetype": "text/x-python",
   "name": "python",
   "nbconvert_exporter": "python",
   "pygments_lexer": "ipython3",
   "version": "3.7.6"
  }
 },
 "nbformat": 4,
 "nbformat_minor": 4
}
