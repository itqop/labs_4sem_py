{
 "cells": [
  {
   "cell_type": "code",
   "execution_count": 1,
   "metadata": {},
   "outputs": [],
   "source": [
    "class Stack:\n",
    "    def __init__(self):\n",
    "        self.items = []\n",
    "\n",
    "    def isEmpty(self):\n",
    "        return self.items == []\n",
    "\n",
    "    def push(self, item):\n",
    "        self.items.append(item)\n",
    "\n",
    "    def pop(self):\n",
    "        return self.items.pop()\n",
    "\n",
    "    def peek(self):\n",
    "        return self.items[len(self.items) - 1]\n",
    "\n",
    "    def size(self):\n",
    "        return len(self.items)"
   ]
  },
  {
   "cell_type": "code",
   "execution_count": 2,
   "metadata": {},
   "outputs": [],
   "source": [
    "class Deque:\n",
    "    def __init__(self):\n",
    "        self.items = []\n",
    "\n",
    "    def isEmpty(self):\n",
    "        return self.items == []\n",
    "\n",
    "    def addFront(self, item):\n",
    "        self.items.append(item)\n",
    "\n",
    "    def addRear(self, item):\n",
    "        self.items.insert(0,item)\n",
    "\n",
    "    def removeFront(self):\n",
    "        return self.items.pop()\n",
    "\n",
    "    def removeRear(self):\n",
    "        return self.items.pop(0)\n",
    "\n",
    "    def size(self):\n",
    "        return len(self.items)\n"
   ]
  },
  {
   "cell_type": "code",
   "execution_count": 6,
   "metadata": {},
   "outputs": [],
   "source": [
    "def check():\n",
    "    k = 0\n",
    "\n",
    "    with open(\"task45.txt\", \"r\") as f:\n",
    "        z = f.read()\n",
    "        for i in range(len(z)):\n",
    "            s.push(z[i])\n",
    "    while len(s.items) != 0:\n",
    "        a = s.pop()\n",
    "        if a == \")\" or a == \"(\":\n",
    "            k+=1\n",
    "    if k % 2 == 0:\n",
    "        k = \"четное кол-во\"\n",
    "    else:\n",
    "        k = \"нечетное кол-во\"\n",
    "    return k"
   ]
  },
  {
   "cell_type": "code",
   "execution_count": 7,
   "metadata": {},
   "outputs": [],
   "source": [
    "def check2():\n",
    "    k = 0\n",
    "    s2 = Deque()\n",
    "    with open(\"task45.txt\", \"r\") as f:\n",
    "        z = f.read()\n",
    "        for i in range(len(z)):\n",
    "            s2.addFront(z[i])\n",
    "    while len(s.items) != 0:\n",
    "        a = s2.removeRear()\n",
    "        if a == \"}\" or a == \"{\":\n",
    "            k+=1\n",
    "\n",
    "    if k % 2 == 0:\n",
    "        k = \"четное кол-во\"\n",
    "    else:\n",
    "        k = \"нечетное кол-во\"\n",
    "    return k"
   ]
  },
  {
   "cell_type": "code",
   "execution_count": 8,
   "metadata": {},
   "outputs": [
    {
     "name": "stdout",
     "output_type": "stream",
     "text": [
      "четное кол-во - ()\n",
      "четное кол-во - {}\n"
     ]
    }
   ],
   "source": [
    "if __name__ == \"__main__\":\n",
    "    s = Stack()\n",
    "    s2 = Deque()\n",
    "    print(check() + \" - ()\")\n",
    "    print(check2() + \" - {}\")"
   ]
  },
  {
   "cell_type": "code",
   "execution_count": null,
   "metadata": {},
   "outputs": [],
   "source": []
  }
 ],
 "metadata": {
  "kernelspec": {
   "display_name": "Python 3",
   "language": "python",
   "name": "python3"
  },
  "language_info": {
   "codemirror_mode": {
    "name": "ipython",
    "version": 3
   },
   "file_extension": ".py",
   "mimetype": "text/x-python",
   "name": "python",
   "nbconvert_exporter": "python",
   "pygments_lexer": "ipython3",
   "version": "3.7.6"
  }
 },
 "nbformat": 4,
 "nbformat_minor": 4
}
