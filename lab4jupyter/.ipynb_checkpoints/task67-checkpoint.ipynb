{
 "cells": [
  {
   "cell_type": "code",
   "execution_count": 1,
   "metadata": {},
   "outputs": [],
   "source": [
    "class Stack:\n",
    "    def __init__(self):\n",
    "        self.items = []\n",
    "\n",
    "    def isEmpty(self):\n",
    "        return self.items == []\n",
    "\n",
    "    def push(self, item):\n",
    "        self.items.append(item)\n",
    "\n",
    "    def pop(self):\n",
    "        return self.items.pop()\n",
    "\n",
    "    def peek(self):\n",
    "        return self.items[len(self.items) - 1]\n",
    "\n",
    "    def size(self):\n",
    "        return len(self.items)"
   ]
  },
  {
   "cell_type": "code",
   "execution_count": 2,
   "metadata": {},
   "outputs": [],
   "source": [
    "class Deque:\n",
    "    def __init__(self):\n",
    "        self.items = []\n",
    "\n",
    "    def isEmpty(self):\n",
    "        return self.items == []\n",
    "\n",
    "    def addFront(self, item):\n",
    "        self.items.append(item)\n",
    "\n",
    "    def addRear(self, item):\n",
    "        self.items.insert(0,item)\n",
    "\n",
    "    def removeFront(self):\n",
    "        return self.items.pop()\n",
    "\n",
    "    def removeRear(self):\n",
    "        return self.items.pop(0)\n",
    "\n",
    "    def size(self):\n",
    "        return len(self.items)"
   ]
  },
  {
   "cell_type": "code",
   "execution_count": 6,
   "metadata": {},
   "outputs": [],
   "source": [
    "def sort_symb():\n",
    "    s = Stack()\n",
    "    result = ''\n",
    "    alp = Stack()\n",
    "    num = Stack()\n",
    "    b = Stack()\n",
    "\n",
    "    with open(\"task6.txt\", \"r\") as f:\n",
    "        z = f.read()\n",
    "        for i in range(len(z)):\n",
    "            s.push(z[i])\n",
    "\n",
    "    while len(s.items) > 0:\n",
    "        a = s.pop()\n",
    "\n",
    "        if a.isdigit():\n",
    "            num.push(a)\n",
    "\n",
    "        elif a.isalpha():\n",
    "            alp.push(a)\n",
    "\n",
    "        elif a != \"\\n\" and a != \" \":\n",
    "            b.push(a)\n",
    "\n",
    "    for i in range(num.size()):\n",
    "        result += num.pop()\n",
    "\n",
    "    for i in range(alp.size()):\n",
    "        result +=alp.pop()\n",
    "\n",
    "    for i in range(b.size()):\n",
    "        result += b.pop()\n",
    "    return result\n"
   ]
  },
  {
   "cell_type": "code",
   "execution_count": 7,
   "metadata": {},
   "outputs": [],
   "source": [
    "def search():\n",
    "\n",
    "\n",
    "    result = \"\"\n",
    "    result2 = \"\"\n",
    "\n",
    "    with open(\"task7.txt\", \"r\") as f:\n",
    "        z = f.read()\n",
    "        for i in range(len(z)):\n",
    "            s.addFront(z[i])\n",
    "    check = False\n",
    "    while len(s.items) > 0:\n",
    "        a = s.removeRear()\n",
    "        if a == \"-\":\n",
    "            check = True\n",
    "        if check == True:\n",
    "            numnm.addFront(a)\n",
    "            if a == \" \":\n",
    "                check = False\n",
    "                numpl.addFront(a)\n",
    "        else:\n",
    "            numpl.addFront(a)\n",
    "\n",
    "    for i in range(numpl.size()):\n",
    "        result += numpl.removeRear()\n",
    "\n",
    "    for i in range(numnm.size()):\n",
    "        result2 += numnm.removeRear()\n",
    "    m = \"Plus \" + result + \" and minus \" + result2\n",
    "    return m"
   ]
  },
  {
   "cell_type": "code",
   "execution_count": 8,
   "metadata": {},
   "outputs": [
    {
     "name": "stdout",
     "output_type": "stream",
     "text": [
      "6 задание - 1235qwetyh[{]\n",
      "7 задание - Plus 0 5  1 5 and minus -1 -32 \n"
     ]
    }
   ],
   "source": [
    "if __name__ == \"__main__\":\n",
    "    s = Deque()\n",
    "    numpl = Deque()\n",
    "    numnm = Deque()\n",
    "    print(\"6 задание - \" + sort_symb())\n",
    "    print(\"7 задание - \" + search())"
   ]
  },
  {
   "cell_type": "code",
   "execution_count": null,
   "metadata": {},
   "outputs": [],
   "source": []
  }
 ],
 "metadata": {
  "kernelspec": {
   "display_name": "Python 3",
   "language": "python",
   "name": "python3"
  },
  "language_info": {
   "codemirror_mode": {
    "name": "ipython",
    "version": 3
   },
   "file_extension": ".py",
   "mimetype": "text/x-python",
   "name": "python",
   "nbconvert_exporter": "python",
   "pygments_lexer": "ipython3",
   "version": "3.7.6"
  }
 },
 "nbformat": 4,
 "nbformat_minor": 4
}
