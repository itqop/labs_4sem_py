{
 "cells": [
  {
   "cell_type": "code",
   "execution_count": 1,
   "metadata": {},
   "outputs": [],
   "source": [
    "class Stack:\n",
    "    def __init__(self):\n",
    "        self.items = []\n",
    "\n",
    "    def isEmpty(self):\n",
    "        return self.items == []\n",
    "\n",
    "    def push(self, item):\n",
    "        self.items.append(item)\n",
    "\n",
    "    def pop(self):\n",
    "        return self.items.pop()\n",
    "\n",
    "    def peek(self):\n",
    "        return self.items[len(self.items) - 1]\n",
    "\n",
    "    def size(self):\n",
    "        return len(self.items)\n"
   ]
  },
  {
   "cell_type": "code",
   "execution_count": 2,
   "metadata": {},
   "outputs": [],
   "source": [
    "def transfer():\n",
    "\n",
    "    sizeT = a.size()\n",
    "\n",
    "    while a.size() != 1:\n",
    "        point = a.pop()\n",
    "        b.push(point)\n",
    "\n",
    "    while c.size() != sizeT:\n",
    "            if a.size() == 1:\n",
    "                point = a.pop()\n",
    "                c.push(point)\n",
    "            if b.size() > 0:\n",
    "                point = b.pop()\n",
    "                c.push(point)\n",
    "    while b.size() != c.size()-1:\n",
    "        b.push(\" \")\n",
    "    while a.size() != c.size()-1:\n",
    "        a.push(\" \")\n",
    "\n",
    "    return c.items\n"
   ]
  },
  {
   "cell_type": "code",
   "execution_count": 5,
   "metadata": {},
   "outputs": [
    {
     "name": "stdout",
     "output_type": "stream",
     "text": [
      "['0', '1', '2', '3', '4', '5']  - пирамидка А до перемещений\n",
      "['0', '1', '2', '3', '4', '5']  - пирамидка С после перемещений\n"
     ]
    }
   ],
   "source": [
    "if __name__ == \"__main__\":\n",
    "    a = Stack()\n",
    "    b = Stack()\n",
    "    c = Stack()\n",
    "    with open('task3.txt','r') as f:\n",
    "        z = f.read()\n",
    "        for i in range(len(z)):\n",
    "            if z[i].isdigit():\n",
    "                a.push(z[i])\n",
    "    print(a.items, \" - пирамидка А до перемещений\")\n",
    "    print(transfer(), \" - пирамидка С после перемещений\")\n",
    "\n",
    "    with open('task3.txt','w') as f:\n",
    "\n",
    "        f.write(\"\\n\" + 'a = ')\n",
    "        for i in range(a.size()):\n",
    "            f.write(a.items[i])\n",
    "\n",
    "        f.write(\"\\n\" + 'b = ')\n",
    "        for i in range(b.size()):\n",
    "            f.write(b.items[i])\n",
    "\n",
    "        f.write(\"\\n\"+'c = ')\n",
    "        for i in range(c.size()):\n",
    "            f.write(c.items[i])"
   ]
  },
  {
   "cell_type": "code",
   "execution_count": null,
   "metadata": {},
   "outputs": [],
   "source": []
  }
 ],
 "metadata": {
  "kernelspec": {
   "display_name": "Python 3",
   "language": "python",
   "name": "python3"
  },
  "language_info": {
   "codemirror_mode": {
    "name": "ipython",
    "version": 3
   },
   "file_extension": ".py",
   "mimetype": "text/x-python",
   "name": "python",
   "nbconvert_exporter": "python",
   "pygments_lexer": "ipython3",
   "version": "3.7.6"
  }
 },
 "nbformat": 4,
 "nbformat_minor": 4
}
