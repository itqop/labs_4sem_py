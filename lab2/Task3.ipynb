{
 "cells": [
  {
   "cell_type": "markdown",
   "metadata": {},
   "source": [
    "# Задание №3\n",
    "## Расставить на стандартной 64-клеточной шахматной доске 8 ферзей так, чтобы ни один из них не находился под боем другого». Подразумевается, что ферзь бьёт все клетки, расположенные по вертикалям, горизонталям и обеим диагоналям. Написать программу,  которая находит хотя бы один способ решения задач.\n"
   ]
  },
  {
   "cell_type": "code",
   "execution_count": 1,
   "metadata": {},
   "outputs": [],
   "source": [
    "chessboard = [0] * 9"
   ]
  },
  {
   "cell_type": "code",
   "execution_count": 4,
   "metadata": {},
   "outputs": [],
   "source": [
    "def bruteforce():\n",
    "    #перебор всех вариантов и проверка каждого из них с помощью функции check()\n",
    "    count = 0 # счетчик\n",
    "    for i1 in range(1,9):\n",
    "        chessboard[1] = i1\n",
    "        for i2 in range(1,9):\n",
    "            chessboard[2] = i2\n",
    "            for i3 in range(1,9):\n",
    "                chessboard[3] = i3\n",
    "                for i4 in range(1,9):\n",
    "                    chessboard[4] = i4\n",
    "                    for i5 in range(1,9):\n",
    "                        chessboard[5] = i5\n",
    "                        for i6 in range(1,9):\n",
    "                            chessboard[6] = i6\n",
    "                            for i7 in range(1,9):\n",
    "                                chessboard[7] = i7\n",
    "                                for i8 in range(1,9):\n",
    "                                    chessboard[8] = i8\n",
    "                                    chessboard[0] = 0\n",
    "                                    check()\n",
    "                                    if chessboard[0] == 28:\n",
    "                                        b = checkdiagonal()\n",
    "                                        if b == False:\n",
    "                                            count +=1\n",
    "                                        ''' print(\"{number}): \", count)\n",
    "                                            for u in range(1,8):\n",
    "                                                print(\" {pos} \", chessboard[u])\n",
    "                                            print(\"\\n\")'''\n",
    "    print(\"Всего расстановок - \",count)\n",
    "def check():\n",
    "    #проверка расстановки \n",
    "    for i1 in range(1,8):\n",
    "        for i2 in range(i1+1,9):\n",
    "            if chessboard[i1] != chessboard[i2]:\n",
    "                b1 = True\n",
    "            else:\n",
    "                b1 = False\n",
    "            if chessboard[i2] - chessboard[i1] != i2-i1:\n",
    "                b2 = True\n",
    "            else:\n",
    "                b2 = False\n",
    "            if chessboard[i1] + i1 != chessboard[i2] + i2:\n",
    "                b3 = True\n",
    "            else:\n",
    "                b3 = False\n",
    "            if (b1 == True & b2 == True & b3 == True):\n",
    "                chessboard[0] += 1\n",
    "def checkdiagonal():\n",
    "#Проверка нахождения ферзей на главных диагоналях: нет - true, есть - false \n",
    "    y = False\n",
    "    for i in range(1,9):\n",
    "        if i == chessboard[i] | i + chessboard[i] == 9:\n",
    "            y = True\n",
    "        if y == True:\n",
    "            break\n",
    "    return y"
   ]
  },
  {
   "cell_type": "code",
   "execution_count": 5,
   "metadata": {},
   "outputs": [
    {
     "name": "stdout",
     "output_type": "stream",
     "text": [
      "Всего расстановок -  92\n",
      "None\n"
     ]
    }
   ],
   "source": [
    "print(bruteforce())"
   ]
  },
  {
   "cell_type": "code",
   "execution_count": null,
   "metadata": {},
   "outputs": [],
   "source": []
  }
 ],
 "metadata": {
  "kernelspec": {
   "display_name": "Python 3",
   "language": "python",
   "name": "python3"
  },
  "language_info": {
   "codemirror_mode": {
    "name": "ipython",
    "version": 3
   },
   "file_extension": ".py",
   "mimetype": "text/x-python",
   "name": "python",
   "nbconvert_exporter": "python",
   "pygments_lexer": "ipython3",
   "version": "3.8.5"
  }
 },
 "nbformat": 4,
 "nbformat_minor": 4
}
