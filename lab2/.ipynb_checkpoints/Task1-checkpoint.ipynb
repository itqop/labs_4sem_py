{
 "cells": [
  {
   "attachments": {
    "image.png": {
     "image/png": "[encoded data removed]"
    }
   },
   "cell_type": "markdown",
   "metadata": {},
   "source": [
    "# Лабораторная работа#2 Задание#1  \n",
    "Цель:Реализовать методы поиска в соответствии с заданием. \n",
    "![image.png](attachment:image.png)"
   ]
  },
  {
   "cell_type": "code",
   "execution_count": 29,
   "metadata": {},
   "outputs": [],
   "source": [
    "import math\n",
    "import time\n",
    "import random\n",
    "import timeit"
   ]
  },
  {
   "cell_type": "code",
   "execution_count": 22,
   "metadata": {},
   "outputs": [],
   "source": [
    "testlist = [0, 1, 8, 9, 13, 17, 19, 32, 42]\n",
    "k = 42\n",
    "p = [3,5,8,9,11,14,15,19,21,22,28,33,35,37,42,45,48,54,55]\n",
    "\n",
    "# для дерева\n",
    "min_limit = -250\n",
    "max_limit = 250\n",
    "m = 100\n",
    "y = [random.randint(int(min_limit),int(max_limit) ) for a in range(int(m))]\n",
    "y.append(10)\n",
    "y.sort()\n",
    "\n",
    "# для остального\n",
    "min_l = -2500000\n",
    "max_l = 2500000\n",
    "v = 100000\n",
    "z = [random.randint(int(min_l),int(max_l) ) for a in range(int(v))]\n",
    "z.append(10)\n",
    "z.sort()\n",
    "\n",
    "len_list = 100000\n",
    "min_limit = 0\n",
    "max_limit = 2000000\n",
    "x = [random.randint(int(min_limit),int(max_limit) ) for a in range(int(len_list))] # генератор списка\n",
    "x.append(66666) # добавляем условное искомое число\n",
    "x.sort() # сортируем список по возрастанию "
   ]
  },
  {
   "cell_type": "code",
   "execution_count": 5,
   "metadata": {
    "scrolled": true
   },
   "outputs": [],
   "source": [
    "#Бинарый поиск\n",
    "def binarySearch(alist, item):\n",
    "        first_num = 0\n",
    "        last_num = len(alist)-1\n",
    "        found = False\n",
    "        # перебор по среднему значению\n",
    "        while last_num - first_num > 1:\n",
    "                middle_num = math.floor((first_num + last_num) / 2)\n",
    "                if alist[middle_num] < int(item):\n",
    "                        first_num = middle_num\n",
    "                if alist[middle_num] > int(item):\n",
    "                        last_num = middle_num\n",
    "                if alist[middle_num] == int(item) or alist[middle_num-1] == int(item) or alist[middle_num+1] == int(item):\n",
    "                        found = True\n",
    "                        break\n",
    "        return found"
   ]
  },
  {
   "cell_type": "code",
   "execution_count": 6,
   "metadata": {},
   "outputs": [
    {
     "name": "stdout",
     "output_type": "stream",
     "text": [
      "False\n",
      "0.0009996891021728516\n"
     ]
    }
   ],
   "source": [
    "k = -2472970\n",
    "q = time.time()\n",
    "print(binarySearch(z,k))\n",
    "print(time.time() - q)"
   ]
  },
  {
   "cell_type": "code",
   "execution_count": 30,
   "metadata": {},
   "outputs": [],
   "source": [
    "#Бинарное дерево\n",
    "class node:\n",
    "    # Инициализация узла.\n",
    "    def __init__(self, value=None):\n",
    "        self.value = value\n",
    "        self.left_child = None\n",
    "        self.right_child = None\n",
    "        self.parent = None\n",
    "\n",
    "\n",
    "class binary_search_tree:\n",
    "    # Инициализация бинарного дерева.\n",
    "    def __init__(self):\n",
    "        self.root = None\n",
    "\n",
    "    def insert(self, value):\n",
    "        # Если корня нет - создать новый корень\n",
    "        if self.root == None:\n",
    "            self.root = node(value)\n",
    "        else:\n",
    "            self._insert(value, self.root)\n",
    "\n",
    "    def _insert(self, value, cur_node):\n",
    "        # cur node - текущий узел\n",
    "        # Если значение меньше текущего узла\n",
    "        if value < cur_node.value:\n",
    "            # Если нет левого ребенка\n",
    "            if cur_node.left_child == None:\n",
    "                # Установка левого ребенка\n",
    "                cur_node.left_child = node(value)\n",
    "                # Установка родителя для левого ребенка\n",
    "                cur_node.left_child.parent = cur_node\n",
    "            else:\n",
    "                # Рекурсивно вызываем эту функцию для левого ребенка\n",
    "                self._insert(value, cur_node.left_child)\n",
    "        # Если значение больше текущего узла\n",
    "        elif value > cur_node.value:\n",
    "            # Если нет правого ребенка\n",
    "            if cur_node.right_child == None:\n",
    "                # Установка правого ребенка\n",
    "                cur_node.right_child = node(value)\n",
    "                # Установка родителя для правого ребенка\n",
    "                cur_node.right_child.parent = cur_node\n",
    "            else:\n",
    "                # Рекурсивно вызываем эту функцию для правого ребенка\n",
    "                self._insert(value, cur_node.right_child)\n",
    "        else:\n",
    "            return\n",
    "\n",
    "    # Поиск элемента в дереве\n",
    "    def search(self, value):\n",
    "        # Если есть корень\n",
    "        if self.root != None:\n",
    "            return self._search(value, self.root)\n",
    "        else:\n",
    "             return False\n",
    "\n",
    "    # Поиск элемента в дереве\n",
    "    def _search(self, value, cur_node):\n",
    "        # Если значение совпадает с текущим значением\n",
    "        if value == cur_node.value:\n",
    "            return True\n",
    "        # Если значение меньше текущего значения и есть левый ребенок\n",
    "        elif value < cur_node.value and cur_node.left_child != None:\n",
    "            # Рекурсивно вызывает поиск для левого ребенка\n",
    "            return self._search(value, cur_node.left_child)\n",
    "        # Если значение больше текущего значения и есть правый ребенок\n",
    "        elif value > cur_node.value and cur_node.right_child != None:\n",
    "            # Рекурсивно вызывает поиск для правого ребенка\n",
    "            return self._search(value, cur_node.right_child)\n",
    "        return False\n",
    "\n",
    "    def delete_value(self, value):\n",
    "        global array\n",
    "        global tree\n",
    "        while value in array:\n",
    "            array.remove(value)\n",
    "        new_tree = binary_search_tree()\n",
    "        for number in array:\n",
    "            new_tree.insert(number)\n",
    "        tree = new_tree\n"
   ]
  },
  {
   "cell_type": "code",
   "execution_count": 32,
   "metadata": {},
   "outputs": [
    {
     "name": "stdout",
     "output_type": "stream",
     "text": [
      "True\n",
      "False\n",
      "True\n",
      "Время: 0.008002281188964844\n"
     ]
    }
   ],
   "source": [
    "# Время старта\n",
    "start = time.time()\n",
    "\n",
    "array = []\n",
    "for i in range(100):\n",
    "    array.append(i)\n",
    "\n",
    "tree = binary_search_tree()\n",
    "for number in array:\n",
    "    tree.insert(number)\n",
    "\n",
    "print(tree.search(4))\n",
    "\n",
    "tree.delete_value(4)\n",
    "\n",
    "print(tree.search(4))\n",
    "\n",
    "tree.insert(4)\n",
    "\n",
    "print(tree.search(4))\n",
    "\n",
    "first = time.time() - start\n",
    "\n",
    "print(\"Время:\", first)"
   ]
  },
  {
   "cell_type": "code",
   "execution_count": 23,
   "metadata": {},
   "outputs": [],
   "source": [
    "#Фибоначчи ------\n",
    "def fibonacci(n, a = [1, 1]):\n",
    "    return (fibonacci(n, a + [sum(a[-2:])]) if len(a) < n else a[:n])\n"
   ]
  },
  {
   "cell_type": "code",
   "execution_count": 24,
   "metadata": {},
   "outputs": [],
   "source": [
    "fibon = fibonacci(50)"
   ]
  },
  {
   "cell_type": "code",
   "execution_count": 25,
   "metadata": {},
   "outputs": [
    {
     "name": "stdout",
     "output_type": "stream",
     "text": [
      "20.9 µs ± 311 ns per loop (mean ± std. dev. of 7 runs, 10000 loops each)\n",
      "3315\n"
     ]
    }
   ],
   "source": [
    "alist = x.copy()\n",
    "# Fibonacci Search\n",
    "def fibonacci_search(array,n,index = 0):\n",
    "    i = 0\n",
    "    while array[fibon[i]] <= n:\n",
    "        if (array[fibon[i]] == n):\n",
    "            index += fibon[i]\n",
    "            return index\n",
    "        if fibon[i+1] >= len(array):\n",
    "            index += fibon[i]\n",
    "            return fibonacci_search(array[fibon[i]:], n, index)\n",
    "\n",
    "        i+=1\n",
    "    index += fibon[i-1]\n",
    "    return fibonacci_search(array[fibon[i-1]:fibon[i]],n,index)\n",
    "%timeit fibonacci_search(alist,66666)\n",
    "print(fibonacci_search(alist,66666))"
   ]
  },
  {
   "cell_type": "code",
   "execution_count": null,
   "metadata": {},
   "outputs": [],
   "source": []
  },
  {
   "cell_type": "code",
   "execution_count": 27,
   "metadata": {},
   "outputs": [],
   "source": [
    "#Интерполяция\n",
    "def interpolation(alist, item):\n",
    "    first_num = 0\n",
    "    last_num = len(alist)-1\n",
    "    found = False\n",
    "    k = 0\n",
    "    # перебор по формуле\n",
    "    while k != len(alist):\n",
    "        middle_num = math.floor(first_num+(((int(item) - alist[first_num])*(last_num - first_num))/(alist[last_num] - alist[first_num])))\n",
    "        if alist[middle_num] < int(item):\n",
    "            first_num = middle_num + 1\n",
    "        if alist[middle_num] > int(item):\n",
    "            last_num = middle_num - 1\n",
    "        if alist[middle_num] == int(item):\n",
    "            found = True\n",
    "            break\n",
    "        k += 1\n",
    "    return found        "
   ]
  },
  {
   "cell_type": "code",
   "execution_count": 28,
   "metadata": {},
   "outputs": [
    {
     "name": "stdout",
     "output_type": "stream",
     "text": [
      "False\n",
      "0.09902238845825195\n"
     ]
    }
   ],
   "source": [
    "q = time.time()\n",
    "print(interpolation(z,k))\n",
    "print(time.time() - q)"
   ]
  },
  {
   "cell_type": "code",
   "execution_count": null,
   "metadata": {},
   "outputs": [],
   "source": []
  },
  {
   "cell_type": "code",
   "execution_count": null,
   "metadata": {},
   "outputs": [],
   "source": []
  },
  {
   "cell_type": "code",
   "execution_count": null,
   "metadata": {},
   "outputs": [],
   "source": []
  }
 ],
 "metadata": {
  "kernelspec": {
   "display_name": "Python 3",
   "language": "python",
   "name": "python3"
  },
  "language_info": {
   "codemirror_mode": {
    "name": "ipython",
    "version": 3
   },
   "file_extension": ".py",
   "mimetype": "text/x-python",
   "name": "python",
   "nbconvert_exporter": "python",
   "pygments_lexer": "ipython3",
   "version": "3.8.5"
  }
 },
 "nbformat": 4,
 "nbformat_minor": 4
}
