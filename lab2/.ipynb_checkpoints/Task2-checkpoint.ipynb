{
 "cells": [
  {
   "attachments": {
    "image.png": {
     "image/png": "[encoded data removed]"
    }
   },
   "cell_type": "markdown",
   "metadata": {},
   "source": [
    "# Задание 2\n",
    "## Реализовать методы поиска в соответствии с заданием.\n",
    "![image.png](attachment:image.png)"
   ]
  },
  {
   "cell_type": "code",
   "execution_count": 3,
   "metadata": {},
   "outputs": [],
   "source": [
    "import random\n",
    "import sys"
   ]
  },
  {
   "cell_type": "code",
   "execution_count": 4,
   "metadata": {},
   "outputs": [],
   "source": [
    "massiv = ['a','b','c','d','e','e','b']\n",
    "hashTableN = [None] * len(massiv)\n",
    "hashTableR = [None] * len(massiv)\n",
    "hashTableC = [None] * len(massiv)"
   ]
  },
  {
   "cell_type": "code",
   "execution_count": 5,
   "metadata": {},
   "outputs": [],
   "source": [
    "class mainH():\n",
    "    def __init__(self, mass, htb):\n",
    "\n",
    "        self.mass = mass\n",
    "        self.mass1 = mass\n",
    "        self.hashtbl = htb\n",
    "        self.size = len(mass)\n",
    "        self.check = 0\n",
    "\n",
    "\n",
    "    def hash(self):\n",
    "        sum = 0\n",
    "        for pos in range(len(self.mass1)):\n",
    "            sum = sum + ord(self.mass1[pos])\n",
    "\n",
    "        return sum % self.size\n",
    "\n",
    "    def ReHash(self,pos):\n",
    "        return (pos + self.check) % self.size\n",
    "\n",
    "    def random(self):\n",
    "        sum = 0\n",
    "        for pos in range(len(self.mass1)):\n",
    "            sum = sum + ord(self.mass1[pos]) * 7\n",
    "        return sum % self.size"
   ]
  },
  {
   "cell_type": "code",
   "execution_count": 6,
   "metadata": {},
   "outputs": [],
   "source": [
    "class proccessing(mainH):\n",
    "    def Simple(self):\n",
    "\n",
    "        for j in range(len(self.mass)):\n",
    "            self.mass1 = self.mass[j]\n",
    "            if self.hashtbl[mainH.hash(self)] == None:\n",
    "                self.hashtbl[mainH.hash(self)] = self.mass[j]\n",
    "            else:\n",
    "                while self.hashtbl[mainH.ReHash(self,mainH.hash(self))] != None:\n",
    "                    self.check += 1\n",
    "                self.hashtbl[mainH.ReHash(self,mainH.hash(self))] = self.mass[j]\n",
    "\n",
    "        return self.hashtbl\n",
    "\n",
    "    def Pseudo(self):\n",
    "\n",
    "        for j in range(len(self.mass)):\n",
    "            self.mass1 = self.mass[j]\n",
    "            if self.hashtbl[mainH.random(self)] == None:\n",
    "                self.hashtbl[mainH.random(self)] = self.mass[j]\n",
    "            else:\n",
    "                while self.hashtbl[mainH.ReHash(self,mainH.random(self))] != None:\n",
    "                    self.check = random.randint(1, self.size)\n",
    "                self.hashtbl[mainH.ReHash(self,mainH.hash(self))] = self.mass[j]\n",
    "        return self.hashtbl\n",
    "\n",
    "    def Chain(self):\n",
    "\n",
    "        for i in range(len(self.mass)):\n",
    "            self.mass1 = self.mass[i]\n",
    "            if self.hashtbl[mainH.hash(self)] == None:\n",
    "                self.hashtbl[mainH.hash(self)] = self.mass[i]\n",
    "            elif self.hashtbl[mainH.hash(self)] != None:\n",
    "                prevValue = self.hashtbl[mainH.hash(self)]\n",
    "                if type(prevValue) != \"list\":\n",
    "                    self.hashtbl[mainH.hash(self)] = []\n",
    "                    if type(prevValue) is list:\n",
    "                        for j in range(len(prevValue)):\n",
    "                            self.hashtbl[mainH.hash(self)].append(prevValue[j])\n",
    "                    else:\n",
    "                        self.hashtbl[mainH.hash(self)].append(prevValue)\n",
    "                        self.hashtbl[mainH.hash(self)].append(self.mass[i])\n",
    "\n",
    "        return self.hashtbl\n"
   ]
  },
  {
   "cell_type": "code",
   "execution_count": 7,
   "metadata": {},
   "outputs": [
    {
     "name": "stdout",
     "output_type": "stream",
     "text": [
      "Простое рехеширование -  ['b', 'c', 'd', 'e', 'e', 'b', 'a']\n",
      "Псевдо рехеширование -  ['c', 'd', 'e', None, None, None, 'b']\n",
      "Цепочки -  [['b', 'b'], 'c', 'd', ['e', 'e'], None, None, 'a']\n"
     ]
    }
   ],
   "source": [
    "if __name__ == \"__main__\":\n",
    "    rehash1 = proccessing(massiv,hashTableN)\n",
    "    print(\"Простое рехеширование - \",rehash1.Simple())\n",
    "    rehash2 = proccessing(massiv, hashTableR)\n",
    "    print(\"Псевдо рехеширование - \",rehash2.Pseudo())\n",
    "    rehash3 = proccessing(massiv, hashTableC)\n",
    "    print(\"Цепочки - \", rehash3.Chain())"
   ]
  },
  {
   "cell_type": "code",
   "execution_count": 8,
   "metadata": {},
   "outputs": [],
   "source": [
    "def findValue(key, array):\n",
    "    k = 0\n",
    "    for idxI, itemI in enumerate(array):\n",
    "        if (type(itemI) is list):\n",
    "            for idxJ, itemJ in enumerate(array[idxI]):\n",
    "                if (itemJ == key):\n",
    "                    return f'{idxI} - {itemJ} ({idxJ})'\n",
    "        else:\n",
    "            if (itemI == key):\n",
    "                return f'{idxI} - {itemI}'\n",
    "        k += 1\n",
    "        if itemI != key and k == int(len(array)-1):\n",
    "            return \"Не найдено\"\n",
    "\n",
    "    return array[mainH.hash(key, len(strArray))]"
   ]
  },
  {
   "cell_type": "code",
   "execution_count": 10,
   "metadata": {},
   "outputs": [
    {
     "name": "stdout",
     "output_type": "stream",
     "text": [
      "1 - c (0)\n",
      "Не найдено\n"
     ]
    }
   ],
   "source": [
    "print(findValue(\"c\",rehash3.Chain()))\n",
    "print(findValue(\"q\",rehash3.Chain()))"
   ]
  }
 ],
 "metadata": {
  "kernelspec": {
   "display_name": "Python 3",
   "language": "python",
   "name": "python3"
  },
  "language_info": {
   "codemirror_mode": {
    "name": "ipython",
    "version": 3
   },
   "file_extension": ".py",
   "mimetype": "text/x-python",
   "name": "python",
   "nbconvert_exporter": "python",
   "pygments_lexer": "ipython3",
   "version": "3.7.6"
  }
 },
 "nbformat": 4,
 "nbformat_minor": 4
}
